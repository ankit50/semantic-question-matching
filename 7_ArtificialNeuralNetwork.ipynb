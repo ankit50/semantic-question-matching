{
  "nbformat": 4,
  "nbformat_minor": 0,
  "metadata": {
    "colab": {
      "name": "ArtificialNeuralNetwork.ipynb",
      "version": "0.3.2",
      "provenance": [],
      "collapsed_sections": []
    },
    "kernelspec": {
      "name": "python3",
      "display_name": "Python 3"
    }
  },
  "cells": [
    {
      "cell_type": "code",
      "metadata": {
        "id": "WKOzd9fQL6C7",
        "colab_type": "code",
        "colab": {
          "base_uri": "https://localhost:8080/",
          "height": 75
        },
        "outputId": "5044c6a8-3b60-441b-a5d8-e31b45e81b1e"
      },
      "source": [
        "import pandas as pd\n",
        "import numpy as np\n",
        "\n",
        "from keras.models import Sequential\n",
        "from keras.layers import Dense\n",
        "\n",
        "from google.colab import drive\n",
        "drive.mount('/content/drive')"
      ],
      "execution_count": 1,
      "outputs": [
        {
          "output_type": "stream",
          "text": [
            "Using TensorFlow backend.\n"
          ],
          "name": "stderr"
        },
        {
          "output_type": "stream",
          "text": [
            "Drive already mounted at /content/drive; to attempt to forcibly remount, call drive.mount(\"/content/drive\", force_remount=True).\n"
          ],
          "name": "stdout"
        }
      ]
    },
    {
      "cell_type": "code",
      "metadata": {
        "id": "LptLvZosMUmm",
        "colab_type": "code",
        "colab": {
          "base_uri": "https://localhost:8080/",
          "height": 267
        },
        "outputId": "8f9a8f11-fb30-4fb7-be8f-2de0ba384389"
      },
      "source": [
        "dataset = pd.read_csv('/content/drive/My Drive/semantic-question-matching/Features/final_features.csv', delimiter='\\t')\n",
        "dataset.head(2)"
      ],
      "execution_count": 2,
      "outputs": [
        {
          "output_type": "execute_result",
          "data": {
            "text/html": [
              "<div>\n",
              "<style scoped>\n",
              "    .dataframe tbody tr th:only-of-type {\n",
              "        vertical-align: middle;\n",
              "    }\n",
              "\n",
              "    .dataframe tbody tr th {\n",
              "        vertical-align: top;\n",
              "    }\n",
              "\n",
              "    .dataframe thead th {\n",
              "        text-align: right;\n",
              "    }\n",
              "</style>\n",
              "<table border=\"1\" class=\"dataframe\">\n",
              "  <thead>\n",
              "    <tr style=\"text-align: right;\">\n",
              "      <th></th>\n",
              "      <th>question1</th>\n",
              "      <th>question2</th>\n",
              "      <th>is_duplicate</th>\n",
              "      <th>len_q1</th>\n",
              "      <th>len_q2</th>\n",
              "      <th>diff_len</th>\n",
              "      <th>len_char_q1</th>\n",
              "      <th>len_char_q2</th>\n",
              "      <th>len_word_q1</th>\n",
              "      <th>len_word_q2</th>\n",
              "      <th>common_words</th>\n",
              "      <th>fuzz_qratio</th>\n",
              "      <th>fuzz_WRatio</th>\n",
              "      <th>fuzz_partial_ratio</th>\n",
              "      <th>fuzz_partial_token_set_ratio</th>\n",
              "      <th>fuzz_partial_token_sort_ratio</th>\n",
              "      <th>fuzz_token_set_ratio</th>\n",
              "      <th>fuzz_token_sort_ratio</th>\n",
              "      <th>wmd</th>\n",
              "      <th>norm_wmd</th>\n",
              "      <th>cosine_distance</th>\n",
              "      <th>cityblock_distance</th>\n",
              "      <th>jaccard_distance</th>\n",
              "      <th>canberra_distance</th>\n",
              "      <th>euclidean_distance</th>\n",
              "      <th>minkowski_distance</th>\n",
              "      <th>braycurtis_distance</th>\n",
              "      <th>skew_q1vec</th>\n",
              "      <th>skew_q2vec</th>\n",
              "      <th>kur_q1vec</th>\n",
              "      <th>kur_q2vec</th>\n",
              "    </tr>\n",
              "  </thead>\n",
              "  <tbody>\n",
              "    <tr>\n",
              "      <th>0</th>\n",
              "      <td>What is the step by step guide to invest in sh...</td>\n",
              "      <td>What is the step by step guide to invest in sh...</td>\n",
              "      <td>0</td>\n",
              "      <td>66</td>\n",
              "      <td>57</td>\n",
              "      <td>9</td>\n",
              "      <td>20</td>\n",
              "      <td>20</td>\n",
              "      <td>14</td>\n",
              "      <td>12</td>\n",
              "      <td>10</td>\n",
              "      <td>93</td>\n",
              "      <td>95</td>\n",
              "      <td>98</td>\n",
              "      <td>100</td>\n",
              "      <td>89</td>\n",
              "      <td>100</td>\n",
              "      <td>93</td>\n",
              "      <td>0.564615</td>\n",
              "      <td>0.217555</td>\n",
              "      <td>0.037908</td>\n",
              "      <td>3.774843</td>\n",
              "      <td>1.0</td>\n",
              "      <td>75.949318</td>\n",
              "      <td>0.275348</td>\n",
              "      <td>0.125323</td>\n",
              "      <td>0.137314</td>\n",
              "      <td>0.008893</td>\n",
              "      <td>-0.099771</td>\n",
              "      <td>0.108845</td>\n",
              "      <td>0.344742</td>\n",
              "    </tr>\n",
              "    <tr>\n",
              "      <th>1</th>\n",
              "      <td>What is the story of Kohinoor (Koh-i-Noor) Dia...</td>\n",
              "      <td>What would happen if the Indian government sto...</td>\n",
              "      <td>0</td>\n",
              "      <td>51</td>\n",
              "      <td>88</td>\n",
              "      <td>-37</td>\n",
              "      <td>21</td>\n",
              "      <td>29</td>\n",
              "      <td>8</td>\n",
              "      <td>13</td>\n",
              "      <td>4</td>\n",
              "      <td>66</td>\n",
              "      <td>86</td>\n",
              "      <td>73</td>\n",
              "      <td>100</td>\n",
              "      <td>75</td>\n",
              "      <td>86</td>\n",
              "      <td>63</td>\n",
              "      <td>3.772346</td>\n",
              "      <td>1.368796</td>\n",
              "      <td>0.574596</td>\n",
              "      <td>15.130415</td>\n",
              "      <td>1.0</td>\n",
              "      <td>190.766894</td>\n",
              "      <td>1.072004</td>\n",
              "      <td>0.482108</td>\n",
              "      <td>0.648993</td>\n",
              "      <td>0.027151</td>\n",
              "      <td>0.060190</td>\n",
              "      <td>0.310524</td>\n",
              "      <td>0.033802</td>\n",
              "    </tr>\n",
              "  </tbody>\n",
              "</table>\n",
              "</div>"
            ],
            "text/plain": [
              "                                           question1  ... kur_q2vec\n",
              "0  What is the step by step guide to invest in sh...  ...  0.344742\n",
              "1  What is the story of Kohinoor (Koh-i-Noor) Dia...  ...  0.033802\n",
              "\n",
              "[2 rows x 31 columns]"
            ]
          },
          "metadata": {
            "tags": []
          },
          "execution_count": 2
        }
      ]
    },
    {
      "cell_type": "code",
      "metadata": {
        "id": "CGMnx0ZEMdUp",
        "colab_type": "code",
        "colab": {
          "base_uri": "https://localhost:8080/",
          "height": 36
        },
        "outputId": "d577c48c-3e60-4de1-fad1-ba60e0a9c255"
      },
      "source": [
        "dataset.shape"
      ],
      "execution_count": 3,
      "outputs": [
        {
          "output_type": "execute_result",
          "data": {
            "text/plain": [
              "(404290, 31)"
            ]
          },
          "metadata": {
            "tags": []
          },
          "execution_count": 3
        }
      ]
    },
    {
      "cell_type": "code",
      "metadata": {
        "id": "dB1Lrz77Mfsm",
        "colab_type": "code",
        "colab": {
          "base_uri": "https://localhost:8080/",
          "height": 207
        },
        "outputId": "55075e1f-83e5-4054-e794-7b66ed4c5d9a"
      },
      "source": [
        "dataset.columns"
      ],
      "execution_count": 4,
      "outputs": [
        {
          "output_type": "execute_result",
          "data": {
            "text/plain": [
              "Index(['question1', 'question2', 'is_duplicate', 'len_q1', 'len_q2',\n",
              "       'diff_len', 'len_char_q1', 'len_char_q2', 'len_word_q1', 'len_word_q2',\n",
              "       'common_words', 'fuzz_qratio', 'fuzz_WRatio', 'fuzz_partial_ratio',\n",
              "       'fuzz_partial_token_set_ratio', 'fuzz_partial_token_sort_ratio',\n",
              "       'fuzz_token_set_ratio', 'fuzz_token_sort_ratio', 'wmd', 'norm_wmd',\n",
              "       'cosine_distance', 'cityblock_distance', 'jaccard_distance',\n",
              "       'canberra_distance', 'euclidean_distance', 'minkowski_distance',\n",
              "       'braycurtis_distance', 'skew_q1vec', 'skew_q2vec', 'kur_q1vec',\n",
              "       'kur_q2vec'],\n",
              "      dtype='object')"
            ]
          },
          "metadata": {
            "tags": []
          },
          "execution_count": 4
        }
      ]
    },
    {
      "cell_type": "code",
      "metadata": {
        "id": "VdE0jvIlTYQ6",
        "colab_type": "code",
        "colab": {}
      },
      "source": [
        "dataset.replace(to_replace=np.inf, value=np.nan, inplace=True)\n",
        "dataset.dropna(axis=0, inplace=True)"
      ],
      "execution_count": 0,
      "outputs": []
    },
    {
      "cell_type": "code",
      "metadata": {
        "id": "nOtdyHBRM3jW",
        "colab_type": "code",
        "colab": {}
      },
      "source": [
        "#diff_len, common_words,  fuzz_qratio ,fuzz_WRatio,fuzz_partial_ratio,fuzz_partial_token_set_ratio,  fuzz_partial_token_sort_ratio,  fuzz_token_set_ratio, fuzz_token_sort_ratio,cosine_distance, cityblock_distance, canberra_distance,euclidean_distance,minkowski_distance  and  braycurtis_distance. \n",
        "X = dataset.iloc[:, [5,10,11,12,13,14,15,16,17,18,20,21,23,24,25,26]].values\n",
        "y = dataset.iloc[:, 2].values"
      ],
      "execution_count": 0,
      "outputs": []
    },
    {
      "cell_type": "code",
      "metadata": {
        "id": "vnBzfkVcT8SK",
        "colab_type": "code",
        "colab": {
          "base_uri": "https://localhost:8080/",
          "height": 36
        },
        "outputId": "c7ebcdad-a501-4073-dbdf-78cea9a67524"
      },
      "source": [
        "np.any(np.isinf(X))"
      ],
      "execution_count": 7,
      "outputs": [
        {
          "output_type": "execute_result",
          "data": {
            "text/plain": [
              "False"
            ]
          },
          "metadata": {
            "tags": []
          },
          "execution_count": 7
        }
      ]
    },
    {
      "cell_type": "code",
      "metadata": {
        "id": "Kxp7P-1aUede",
        "colab_type": "code",
        "colab": {
          "base_uri": "https://localhost:8080/",
          "height": 36
        },
        "outputId": "1170e2ac-dbe6-4f76-955e-fe646438491b"
      },
      "source": [
        "np.any(np.isnan(X))"
      ],
      "execution_count": 8,
      "outputs": [
        {
          "output_type": "execute_result",
          "data": {
            "text/plain": [
              "False"
            ]
          },
          "metadata": {
            "tags": []
          },
          "execution_count": 8
        }
      ]
    },
    {
      "cell_type": "code",
      "metadata": {
        "id": "ItmAJm5kPGTd",
        "colab_type": "code",
        "colab": {}
      },
      "source": [
        "from sklearn.model_selection import train_test_split\n",
        "X_train, X_test, Y_train, Y_test = train_test_split(X, y, test_size=0.2, random_state=0)"
      ],
      "execution_count": 0,
      "outputs": []
    },
    {
      "cell_type": "code",
      "metadata": {
        "id": "cV9uV0GNsICJ",
        "colab_type": "code",
        "colab": {
          "base_uri": "https://localhost:8080/",
          "height": 55
        },
        "outputId": "261f8471-61cc-42f1-ad20-9bea5c238973"
      },
      "source": [
        "print(np.sum(Y_train))\n",
        "print(np.sum(Y_test))"
      ],
      "execution_count": 10,
      "outputs": [
        {
          "output_type": "stream",
          "text": [
            "117361\n",
            "29409\n"
          ],
          "name": "stdout"
        }
      ]
    },
    {
      "cell_type": "code",
      "metadata": {
        "id": "H6YD6sfCTREw",
        "colab_type": "code",
        "colab": {}
      },
      "source": [
        "from sklearn.preprocessing import StandardScaler\n",
        "sc_X = StandardScaler()\n",
        "X_train = sc_X.fit_transform(X_train)\n",
        "X_test = sc_X.transform(X_test)"
      ],
      "execution_count": 0,
      "outputs": []
    },
    {
      "cell_type": "code",
      "metadata": {
        "id": "4odpGo4mPXf_",
        "colab_type": "code",
        "colab": {}
      },
      "source": [
        "classifier=Sequential()\n",
        "classifier.add(Dense(input_dim=16, kernel_initializer=\"uniform\", units=8, activation=\"relu\"))\n",
        "classifier.add(Dense(kernel_initializer=\"uniform\", units=8, activation=\"relu\"))\n",
        "classifier.add(Dense(kernel_initializer=\"uniform\", units=8, activation=\"relu\"))\n",
        "classifier.add(Dense(kernel_initializer=\"uniform\", units=8, activation=\"relu\"))\n",
        "classifier.add(Dense(kernel_initializer=\"uniform\", units=8, activation=\"relu\"))\n",
        "classifier.add(Dense(kernel_initializer=\"uniform\", units=8, activation=\"relu\"))\n",
        "classifier.add(Dense(kernel_initializer=\"uniform\", units=1, activation=\"sigmoid\"))"
      ],
      "execution_count": 0,
      "outputs": []
    },
    {
      "cell_type": "code",
      "metadata": {
        "id": "XAFaDom0P-8I",
        "colab_type": "code",
        "colab": {}
      },
      "source": [
        "classifier.compile(optimizer='adam',loss='binary_crossentropy',metrics=['accuracy'])"
      ],
      "execution_count": 0,
      "outputs": []
    },
    {
      "cell_type": "code",
      "metadata": {
        "id": "yeZ4NP7mQDWa",
        "colab_type": "code",
        "colab": {
          "base_uri": "https://localhost:8080/",
          "height": 873
        },
        "outputId": "8795ee0c-c9a2-4fa5-9b63-eabdbf124744"
      },
      "source": [
        "classifier.fit(X_train,Y_train,batch_size=10,epochs=20)"
      ],
      "execution_count": 15,
      "outputs": [
        {
          "output_type": "stream",
          "text": [
            "WARNING:tensorflow:From /usr/local/lib/python3.6/dist-packages/tensorflow/python/ops/math_ops.py:3066: to_int32 (from tensorflow.python.ops.math_ops) is deprecated and will be removed in a future version.\n",
            "Instructions for updating:\n",
            "Use tf.cast instead.\n",
            "Epoch 1/20\n",
            "314651/314651 [==============================] - 40s 126us/step - loss: 0.5214 - acc: 0.6934\n",
            "Epoch 2/20\n",
            "314651/314651 [==============================] - 39s 124us/step - loss: 0.5075 - acc: 0.7149\n",
            "Epoch 3/20\n",
            "314651/314651 [==============================] - 39s 124us/step - loss: 0.5015 - acc: 0.7188\n",
            "Epoch 4/20\n",
            "314651/314651 [==============================] - 39s 125us/step - loss: 0.4996 - acc: 0.7200\n",
            "Epoch 5/20\n",
            "314651/314651 [==============================] - 39s 124us/step - loss: 0.4990 - acc: 0.7196\n",
            "Epoch 6/20\n",
            "314651/314651 [==============================] - 39s 123us/step - loss: 0.4984 - acc: 0.7203\n",
            "Epoch 7/20\n",
            "314651/314651 [==============================] - 39s 123us/step - loss: 0.4978 - acc: 0.7206\n",
            "Epoch 8/20\n",
            "314651/314651 [==============================] - 40s 127us/step - loss: 0.4978 - acc: 0.7206\n",
            "Epoch 9/20\n",
            "314651/314651 [==============================] - 39s 123us/step - loss: 0.4974 - acc: 0.7211\n",
            "Epoch 10/20\n",
            "314651/314651 [==============================] - 39s 123us/step - loss: 0.4971 - acc: 0.7215\n",
            "Epoch 11/20\n",
            "314651/314651 [==============================] - 39s 123us/step - loss: 0.4967 - acc: 0.7217\n",
            "Epoch 12/20\n",
            "314651/314651 [==============================] - 39s 124us/step - loss: 0.4959 - acc: 0.7218\n",
            "Epoch 13/20\n",
            "314651/314651 [==============================] - 39s 124us/step - loss: 0.4957 - acc: 0.7216\n",
            "Epoch 14/20\n",
            "314651/314651 [==============================] - 39s 125us/step - loss: 0.4954 - acc: 0.7217\n",
            "Epoch 15/20\n",
            "314651/314651 [==============================] - 39s 124us/step - loss: 0.4950 - acc: 0.7219\n",
            "Epoch 16/20\n",
            "314651/314651 [==============================] - 40s 127us/step - loss: 0.4948 - acc: 0.7223\n",
            "Epoch 17/20\n",
            "314651/314651 [==============================] - 39s 123us/step - loss: 0.4944 - acc: 0.7226\n",
            "Epoch 18/20\n",
            "314651/314651 [==============================] - 39s 123us/step - loss: 0.4941 - acc: 0.7224\n",
            "Epoch 19/20\n",
            "314651/314651 [==============================] - 39s 125us/step - loss: 0.4941 - acc: 0.7229\n",
            "Epoch 20/20\n",
            "314651/314651 [==============================] - 39s 124us/step - loss: 0.4939 - acc: 0.7228\n"
          ],
          "name": "stdout"
        },
        {
          "output_type": "execute_result",
          "data": {
            "text/plain": [
              "<keras.callbacks.History at 0x7f31875a4cc0>"
            ]
          },
          "metadata": {
            "tags": []
          },
          "execution_count": 15
        }
      ]
    },
    {
      "cell_type": "code",
      "metadata": {
        "id": "ZpG9ILblRSjk",
        "colab_type": "code",
        "colab": {}
      },
      "source": [
        "y_pred = classifier.predict(X_test)\n",
        "y_pred=(y_pred>0.5)"
      ],
      "execution_count": 0,
      "outputs": []
    },
    {
      "cell_type": "code",
      "metadata": {
        "id": "1RGDIlfhSvQ-",
        "colab_type": "code",
        "colab": {
          "base_uri": "https://localhost:8080/",
          "height": 55
        },
        "outputId": "76ce9232-6bf4-4386-9331-38ba7a839dca"
      },
      "source": [
        "from sklearn.metrics import confusion_matrix\n",
        "cm = confusion_matrix(Y_test, y_pred)\n",
        "print(cm)"
      ],
      "execution_count": 17,
      "outputs": [
        {
          "output_type": "stream",
          "text": [
            "[[35960 13294]\n",
            " [ 8548 20861]]\n"
          ],
          "name": "stdout"
        }
      ]
    },
    {
      "cell_type": "code",
      "metadata": {
        "id": "JWS8WHH73JVJ",
        "colab_type": "code",
        "colab": {}
      },
      "source": [
        "import pickle\n",
        "pickle.dump(classifier, open('ANN.model', 'wb'))"
      ],
      "execution_count": 0,
      "outputs": []
    }
  ]
}