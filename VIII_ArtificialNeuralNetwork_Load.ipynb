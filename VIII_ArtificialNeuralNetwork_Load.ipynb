{
  "nbformat": 4,
  "nbformat_minor": 0,
  "metadata": {
    "colab": {
      "name": "VIII_ArtificialNeuralNetwork_Load.ipynb",
      "version": "0.3.2",
      "provenance": [],
      "collapsed_sections": []
    },
    "kernelspec": {
      "name": "python3",
      "display_name": "Python 3"
    }
  },
  "cells": [
    {
      "cell_type": "code",
      "metadata": {
        "id": "GkQ0XKZkFCUn",
        "colab_type": "code",
        "colab": {
          "base_uri": "https://localhost:8080/",
          "height": 56
        },
        "outputId": "67f1d88e-677f-4626-8848-383832e74de1"
      },
      "source": [
        "import pandas as pd\n",
        "import numpy as np\n",
        "from fuzzywuzzy import fuzz\n",
        "from gensim.models import KeyedVectors\n",
        "from scipy.stats import skew, kurtosis\n",
        "from scipy.spatial.distance import cosine, cityblock, jaccard, canberra, euclidean, minkowski, braycurtis\n",
        "\n",
        "# Load the Drive helper and mount\n",
        "from google.colab import drive\n",
        "drive.mount('/content/drive')"
      ],
      "execution_count": 28,
      "outputs": [
        {
          "output_type": "stream",
          "text": [
            "Drive already mounted at /content/drive; to attempt to forcibly remount, call drive.mount(\"/content/drive\", force_remount=True).\n"
          ],
          "name": "stdout"
        }
      ]
    },
    {
      "cell_type": "code",
      "metadata": {
        "id": "7lB8BP1_IwE4",
        "colab_type": "code",
        "colab": {
          "base_uri": "https://localhost:8080/",
          "height": 131
        },
        "outputId": "f5a6f4f3-9f72-4f01-f237-f2d911459379"
      },
      "source": [
        "import nltk\n",
        "nltk.download('stopwords')\n",
        "nltk.download('wordnet')\n",
        "nltk.download('punkt')\n",
        "from nltk import word_tokenize\n",
        "from nltk.stem import WordNetLemmatizer\n",
        "from nltk.corpus import stopwords\n",
        "\n",
        "lemmatizer = WordNetLemmatizer()"
      ],
      "execution_count": 16,
      "outputs": [
        {
          "output_type": "stream",
          "text": [
            "[nltk_data] Downloading package stopwords to /root/nltk_data...\n",
            "[nltk_data]   Unzipping corpora/stopwords.zip.\n",
            "[nltk_data] Downloading package wordnet to /root/nltk_data...\n",
            "[nltk_data]   Unzipping corpora/wordnet.zip.\n",
            "[nltk_data] Downloading package punkt to /root/nltk_data...\n",
            "[nltk_data]   Unzipping tokenizers/punkt.zip.\n"
          ],
          "name": "stdout"
        }
      ]
    },
    {
      "cell_type": "code",
      "metadata": {
        "id": "MQAmLkJQGZQv",
        "colab_type": "code",
        "colab": {
          "base_uri": "https://localhost:8080/",
          "height": 170
        },
        "outputId": "b2f255da-014b-49c1-c288-338950c91ec8"
      },
      "source": [
        "classifier = pickle.load(open('ANN.model', 'rb'))"
      ],
      "execution_count": 3,
      "outputs": [
        {
          "output_type": "stream",
          "text": [
            "Using TensorFlow backend.\n"
          ],
          "name": "stderr"
        },
        {
          "output_type": "stream",
          "text": [
            "WARNING:tensorflow:From /usr/local/lib/python3.6/dist-packages/tensorflow/python/framework/op_def_library.py:263: colocate_with (from tensorflow.python.framework.ops) is deprecated and will be removed in a future version.\n",
            "Instructions for updating:\n",
            "Colocations handled automatically by placer.\n",
            "WARNING:tensorflow:From /usr/local/lib/python3.6/dist-packages/tensorflow/python/ops/math_ops.py:3066: to_int32 (from tensorflow.python.ops.math_ops) is deprecated and will be removed in a future version.\n",
            "Instructions for updating:\n",
            "Use tf.cast instead.\n"
          ],
          "name": "stdout"
        }
      ]
    },
    {
      "cell_type": "code",
      "metadata": {
        "id": "4WgNaZnqGywx",
        "colab_type": "code",
        "colab": {
          "base_uri": "https://localhost:8080/",
          "height": 416
        },
        "outputId": "34e55f93-63f6-41f4-a6a0-831764dfd57e"
      },
      "source": [
        "classifier.summary()"
      ],
      "execution_count": 8,
      "outputs": [
        {
          "output_type": "stream",
          "text": [
            "_________________________________________________________________\n",
            "Layer (type)                 Output Shape              Param #   \n",
            "=================================================================\n",
            "dense_8 (Dense)              (None, 8)                 136       \n",
            "_________________________________________________________________\n",
            "dense_9 (Dense)              (None, 8)                 72        \n",
            "_________________________________________________________________\n",
            "dense_10 (Dense)             (None, 8)                 72        \n",
            "_________________________________________________________________\n",
            "dense_11 (Dense)             (None, 8)                 72        \n",
            "_________________________________________________________________\n",
            "dense_12 (Dense)             (None, 8)                 72        \n",
            "_________________________________________________________________\n",
            "dense_13 (Dense)             (None, 8)                 72        \n",
            "_________________________________________________________________\n",
            "dense_14 (Dense)             (None, 1)                 9         \n",
            "=================================================================\n",
            "Total params: 505\n",
            "Trainable params: 505\n",
            "Non-trainable params: 0\n",
            "_________________________________________________________________\n"
          ],
          "name": "stdout"
        }
      ]
    },
    {
      "cell_type": "code",
      "metadata": {
        "id": "Pgf2jejuILhr",
        "colab_type": "code",
        "colab": {}
      },
      "source": [
        "def wordmoverdistance(s1, s2):\n",
        "    s1 = str(s1).lower().split()\n",
        "    s2 = str(s2).lower().split()\n",
        "    s1 = [lemmatizer.lemmatize(w) for w in s1 if w not in stopwords.words('english')]\n",
        "    s2 = [lemmatizer.lemmatize(w) for w in s2 if w not in stopwords.words('english')]\n",
        "    return model.wmdistance(s1, s2)"
      ],
      "execution_count": 0,
      "outputs": []
    },
    {
      "cell_type": "code",
      "metadata": {
        "id": "JOo2YBmII3I9",
        "colab_type": "code",
        "colab": {}
      },
      "source": [
        "def sent2vec(s):\n",
        "    words = str(s).lower()\n",
        "    words = word_tokenize(words)\n",
        "    words = [w for w in words if not w in stopwords.words('english')]\n",
        "    words = [w for w in words if w.isalpha()]\n",
        "    M = []\n",
        "    for w in words:\n",
        "        try:\n",
        "            M.append(model[w])\n",
        "        except:\n",
        "            continue\n",
        "    M = np.array(M)\n",
        "    v = M.sum(axis=0)\n",
        "    return v / np.sqrt((v ** 2).sum())"
      ],
      "execution_count": 0,
      "outputs": []
    },
    {
      "cell_type": "code",
      "metadata": {
        "id": "RUyuskEhN8Sz",
        "colab_type": "code",
        "colab": {}
      },
      "source": [
        "import pickle\n",
        "X_Scaler = pickle.load(open('XScaler','rb'))"
      ],
      "execution_count": 0,
      "outputs": []
    },
    {
      "cell_type": "code",
      "metadata": {
        "id": "O1TY-02fI7Rp",
        "colab_type": "code",
        "colab": {}
      },
      "source": [
        "model = KeyedVectors.load_word2vec_format('drive/My Drive/semantic-question-matching/GoogleNews-vectors-negative300.bin.gz', binary=True)"
      ],
      "execution_count": 0,
      "outputs": []
    },
    {
      "cell_type": "code",
      "metadata": {
        "id": "byJeocAlHRNM",
        "colab_type": "code",
        "colab": {}
      },
      "source": [
        "question1 = 'What practical applications might evolve from the discovery of the Higgs Boson ?'\n",
        "question2 = 'What are some practical benefits of discovery of the Higgs Boson ?'\n",
        "\n",
        "#question1 = 'How can I start an online shopping (e-commerce) website ?'\n",
        "#question2 = 'Which web technology is best suitable for building a big E-Commerce website ?'\n",
        "\n"
      ],
      "execution_count": 0,
      "outputs": []
    },
    {
      "cell_type": "code",
      "metadata": {
        "id": "1uHg-grZIIP_",
        "colab_type": "code",
        "colab": {}
      },
      "source": [
        "diff_len = len(str(question1)) - len(str(question2))\n",
        "common_words = len(set(str(question1).lower().split()).intersection(set(str(question2).lower().split())))\n",
        "fuzz_qratio = fuzz.QRatio(str(question1), str(question2))\n",
        "fuzz_WRatio = fuzz.WRatio(str(question1), str(question2))\n",
        "fuzz_partial_ratio = fuzz.partial_ratio(str(question1), str(question2))\n",
        "fuzz_partial_token_set_ratio = fuzz.partial_token_set_ratio(str(question1), str(question2))\n",
        "fuzz_partial_token_sort_ratio = fuzz.partial_token_sort_ratio(str(question1), str(question2))\n",
        "fuzz_token_set_ratio = fuzz.token_set_ratio(str(question1), str(question2))\n",
        "fuzz_token_sort_ratio = fuzz.token_sort_ratio(str(question1), str(question2))\n",
        "wmd = wordmoverdistance(question1, question2)"
      ],
      "execution_count": 0,
      "outputs": []
    },
    {
      "cell_type": "code",
      "metadata": {
        "id": "qRkdGcmkLlc_",
        "colab_type": "code",
        "colab": {}
      },
      "source": [
        "question1_vectors = np.zeros((data.shape[0], 300))\n",
        "question2_vectors  = np.zeros((data.shape[0], 300))\n",
        "error_count = 0\n",
        "\n",
        "question1_vectors = sent2vec(question1)\n",
        "question2_vectors = sent2vec(question2)\n",
        "\n",
        "cosine_distance = cosine(question1_vectors, question2_vectors)\n",
        "\n",
        "cityblock_distance = cityblock(question1_vectors, question2_vectors)\n",
        "\n",
        "#data['jaccard_distance'] = [jaccard(x, y) for (x, y) in zip(np.nan_to_num(question1_vectors),\n",
        "#                                                          np.nan_to_num(question2_vectors))]\n",
        "\n",
        "canberra_distance = canberra(question1_vectors, question2_vectors)\n",
        "\n",
        "euclidean_distance = euclidean(question1_vectors, question2_vectors)\n",
        "\n",
        "minkowski_distance = minkowski(question1_vectors, question2_vectors, 3)\n",
        "\n",
        "braycurtis_distance = braycurtis(question1_vectors, question2_vectors)"
      ],
      "execution_count": 0,
      "outputs": []
    },
    {
      "cell_type": "code",
      "metadata": {
        "id": "mLJOsx4BNP0o",
        "colab_type": "code",
        "colab": {
          "base_uri": "https://localhost:8080/",
          "height": 93
        },
        "outputId": "de613859-712d-4982-82d6-ca123f007738"
      },
      "source": [
        "X = np.array([diff_len, common_words, fuzz_qratio, fuzz_WRatio, fuzz_partial_ratio, fuzz_partial_token_set_ratio, \n",
        "             fuzz_partial_token_sort_ratio, fuzz_token_set_ratio, fuzz_token_sort_ratio, wmd, cosine_distance,\n",
        "             cityblock_distance, canberra_distance, euclidean_distance, minkowski_distance, braycurtis_distance\n",
        "             ])\n",
        "print(X)"
      ],
      "execution_count": 218,
      "outputs": [
        {
          "output_type": "stream",
          "text": [
            "[ 14.           8.          70.          79.          65.\n",
            " 100.          70.          83.          72.           1.60320105\n",
            "   0.16407079   8.06492424 131.4856087    0.57283652   0.25790229\n",
            "   0.30759052]\n"
          ],
          "name": "stdout"
        }
      ]
    },
    {
      "cell_type": "code",
      "metadata": {
        "id": "n9Wf4hsHPP_C",
        "colab_type": "code",
        "colab": {}
      },
      "source": [
        "X = X_Scaler.transform(X.reshape(1,-1))"
      ],
      "execution_count": 0,
      "outputs": []
    },
    {
      "cell_type": "code",
      "metadata": {
        "id": "wVLUv3fDPzLY",
        "colab_type": "code",
        "colab": {
          "base_uri": "https://localhost:8080/",
          "height": 93
        },
        "outputId": "9e4a28d0-9a62-4569-c93f-4ff0445dbb28"
      },
      "source": [
        "X"
      ],
      "execution_count": 220,
      "outputs": [
        {
          "output_type": "execute_result",
          "data": {
            "text/plain": [
              "array([[ 0.44513407,  1.09804822,  0.44057859,  0.16956127,  0.00825133,\n",
              "         0.20255278,  0.18230737,  0.54504029,  0.47123678, -0.31154066,\n",
              "        -0.542105  , -0.30564021, -0.0391188 , -0.33920903, -0.34273853,\n",
              "        -0.35185591]])"
            ]
          },
          "metadata": {
            "tags": []
          },
          "execution_count": 220
        }
      ]
    },
    {
      "cell_type": "code",
      "metadata": {
        "id": "Mq0sOnwrP0yj",
        "colab_type": "code",
        "colab": {
          "base_uri": "https://localhost:8080/",
          "height": 55
        },
        "outputId": "5fe5094b-49bb-4d95-eb44-5ffee05884bf"
      },
      "source": [
        "y_pred = classifier.predict(X)\n",
        "print(y_pred)\n",
        "print(y_pred > 0.5)"
      ],
      "execution_count": 221,
      "outputs": [
        {
          "output_type": "stream",
          "text": [
            "[[0.6667401]]\n",
            "[[ True]]\n"
          ],
          "name": "stdout"
        }
      ]
    }
  ]
}