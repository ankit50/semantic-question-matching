{
  "nbformat": 4,
  "nbformat_minor": 0,
  "metadata": {
    "colab": {
      "name": "ArtificialNeuralNetwork.ipynb",
      "version": "0.3.2",
      "provenance": [],
      "collapsed_sections": []
    },
    "kernelspec": {
      "name": "python3",
      "display_name": "Python 3"
    }
  },
  "cells": [
    {
      "cell_type": "code",
      "metadata": {
        "id": "WKOzd9fQL6C7",
        "colab_type": "code",
        "outputId": "d9078367-3073-4a85-8d2c-f9a2f8f3c984",
        "colab": {
          "base_uri": "https://localhost:8080/",
          "height": 56
        }
      },
      "source": [
        "import pandas as pd\n",
        "import numpy as np\n",
        "\n",
        "from keras.models import Sequential\n",
        "from keras.layers import Dense\n",
        "\n",
        "from google.colab import drive\n",
        "drive.mount('/content/drive')"
      ],
      "execution_count": 25,
      "outputs": [
        {
          "output_type": "stream",
          "text": [
            "Drive already mounted at /content/drive; to attempt to forcibly remount, call drive.mount(\"/content/drive\", force_remount=True).\n"
          ],
          "name": "stdout"
        }
      ]
    },
    {
      "cell_type": "code",
      "metadata": {
        "id": "LptLvZosMUmm",
        "colab_type": "code",
        "outputId": "580d2c39-4e98-4b3e-8f07-75eba1ead29e",
        "colab": {
          "base_uri": "https://localhost:8080/",
          "height": 267
        }
      },
      "source": [
        "dataset = pd.read_csv('/content/drive/My Drive/semantic-question-matching/Features/final_features.csv', delimiter='\\t')\n",
        "dataset.head(2)"
      ],
      "execution_count": 26,
      "outputs": [
        {
          "output_type": "execute_result",
          "data": {
            "text/html": [
              "<div>\n",
              "<style scoped>\n",
              "    .dataframe tbody tr th:only-of-type {\n",
              "        vertical-align: middle;\n",
              "    }\n",
              "\n",
              "    .dataframe tbody tr th {\n",
              "        vertical-align: top;\n",
              "    }\n",
              "\n",
              "    .dataframe thead th {\n",
              "        text-align: right;\n",
              "    }\n",
              "</style>\n",
              "<table border=\"1\" class=\"dataframe\">\n",
              "  <thead>\n",
              "    <tr style=\"text-align: right;\">\n",
              "      <th></th>\n",
              "      <th>question1</th>\n",
              "      <th>question2</th>\n",
              "      <th>is_duplicate</th>\n",
              "      <th>len_q1</th>\n",
              "      <th>len_q2</th>\n",
              "      <th>diff_len</th>\n",
              "      <th>len_char_q1</th>\n",
              "      <th>len_char_q2</th>\n",
              "      <th>len_word_q1</th>\n",
              "      <th>len_word_q2</th>\n",
              "      <th>common_words</th>\n",
              "      <th>fuzz_qratio</th>\n",
              "      <th>fuzz_WRatio</th>\n",
              "      <th>fuzz_partial_ratio</th>\n",
              "      <th>fuzz_partial_token_set_ratio</th>\n",
              "      <th>fuzz_partial_token_sort_ratio</th>\n",
              "      <th>fuzz_token_set_ratio</th>\n",
              "      <th>fuzz_token_sort_ratio</th>\n",
              "      <th>wmd</th>\n",
              "      <th>norm_wmd</th>\n",
              "      <th>cosine_distance</th>\n",
              "      <th>cityblock_distance</th>\n",
              "      <th>jaccard_distance</th>\n",
              "      <th>canberra_distance</th>\n",
              "      <th>euclidean_distance</th>\n",
              "      <th>minkowski_distance</th>\n",
              "      <th>braycurtis_distance</th>\n",
              "      <th>skew_q1vec</th>\n",
              "      <th>skew_q2vec</th>\n",
              "      <th>kur_q1vec</th>\n",
              "      <th>kur_q2vec</th>\n",
              "    </tr>\n",
              "  </thead>\n",
              "  <tbody>\n",
              "    <tr>\n",
              "      <th>0</th>\n",
              "      <td>What is the step by step guide to invest in sh...</td>\n",
              "      <td>What is the step by step guide to invest in sh...</td>\n",
              "      <td>0</td>\n",
              "      <td>66</td>\n",
              "      <td>57</td>\n",
              "      <td>9</td>\n",
              "      <td>20</td>\n",
              "      <td>20</td>\n",
              "      <td>14</td>\n",
              "      <td>12</td>\n",
              "      <td>10</td>\n",
              "      <td>93</td>\n",
              "      <td>95</td>\n",
              "      <td>98</td>\n",
              "      <td>100</td>\n",
              "      <td>89</td>\n",
              "      <td>100</td>\n",
              "      <td>93</td>\n",
              "      <td>0.564615</td>\n",
              "      <td>0.217555</td>\n",
              "      <td>0.037908</td>\n",
              "      <td>3.774843</td>\n",
              "      <td>1.0</td>\n",
              "      <td>75.949318</td>\n",
              "      <td>0.275348</td>\n",
              "      <td>0.125323</td>\n",
              "      <td>0.137314</td>\n",
              "      <td>0.008893</td>\n",
              "      <td>-0.099771</td>\n",
              "      <td>0.108845</td>\n",
              "      <td>0.344742</td>\n",
              "    </tr>\n",
              "    <tr>\n",
              "      <th>1</th>\n",
              "      <td>What is the story of Kohinoor (Koh-i-Noor) Dia...</td>\n",
              "      <td>What would happen if the Indian government sto...</td>\n",
              "      <td>0</td>\n",
              "      <td>51</td>\n",
              "      <td>88</td>\n",
              "      <td>-37</td>\n",
              "      <td>21</td>\n",
              "      <td>29</td>\n",
              "      <td>8</td>\n",
              "      <td>13</td>\n",
              "      <td>4</td>\n",
              "      <td>66</td>\n",
              "      <td>86</td>\n",
              "      <td>73</td>\n",
              "      <td>100</td>\n",
              "      <td>75</td>\n",
              "      <td>86</td>\n",
              "      <td>63</td>\n",
              "      <td>3.772346</td>\n",
              "      <td>1.368796</td>\n",
              "      <td>0.574596</td>\n",
              "      <td>15.130415</td>\n",
              "      <td>1.0</td>\n",
              "      <td>190.766894</td>\n",
              "      <td>1.072004</td>\n",
              "      <td>0.482108</td>\n",
              "      <td>0.648993</td>\n",
              "      <td>0.027151</td>\n",
              "      <td>0.060190</td>\n",
              "      <td>0.310524</td>\n",
              "      <td>0.033802</td>\n",
              "    </tr>\n",
              "  </tbody>\n",
              "</table>\n",
              "</div>"
            ],
            "text/plain": [
              "                                           question1  ... kur_q2vec\n",
              "0  What is the step by step guide to invest in sh...  ...  0.344742\n",
              "1  What is the story of Kohinoor (Koh-i-Noor) Dia...  ...  0.033802\n",
              "\n",
              "[2 rows x 31 columns]"
            ]
          },
          "metadata": {
            "tags": []
          },
          "execution_count": 26
        }
      ]
    },
    {
      "cell_type": "code",
      "metadata": {
        "id": "CGMnx0ZEMdUp",
        "colab_type": "code",
        "outputId": "bcbf5fce-5423-42a4-9089-66cc7bc76af2",
        "colab": {
          "base_uri": "https://localhost:8080/",
          "height": 36
        }
      },
      "source": [
        "dataset.shape"
      ],
      "execution_count": 27,
      "outputs": [
        {
          "output_type": "execute_result",
          "data": {
            "text/plain": [
              "(404290, 31)"
            ]
          },
          "metadata": {
            "tags": []
          },
          "execution_count": 27
        }
      ]
    },
    {
      "cell_type": "code",
      "metadata": {
        "id": "dB1Lrz77Mfsm",
        "colab_type": "code",
        "outputId": "6a2158a0-1290-43cc-f1d3-99478632b35f",
        "colab": {
          "base_uri": "https://localhost:8080/",
          "height": 207
        }
      },
      "source": [
        "dataset.columns"
      ],
      "execution_count": 28,
      "outputs": [
        {
          "output_type": "execute_result",
          "data": {
            "text/plain": [
              "Index(['question1', 'question2', 'is_duplicate', 'len_q1', 'len_q2',\n",
              "       'diff_len', 'len_char_q1', 'len_char_q2', 'len_word_q1', 'len_word_q2',\n",
              "       'common_words', 'fuzz_qratio', 'fuzz_WRatio', 'fuzz_partial_ratio',\n",
              "       'fuzz_partial_token_set_ratio', 'fuzz_partial_token_sort_ratio',\n",
              "       'fuzz_token_set_ratio', 'fuzz_token_sort_ratio', 'wmd', 'norm_wmd',\n",
              "       'cosine_distance', 'cityblock_distance', 'jaccard_distance',\n",
              "       'canberra_distance', 'euclidean_distance', 'minkowski_distance',\n",
              "       'braycurtis_distance', 'skew_q1vec', 'skew_q2vec', 'kur_q1vec',\n",
              "       'kur_q2vec'],\n",
              "      dtype='object')"
            ]
          },
          "metadata": {
            "tags": []
          },
          "execution_count": 28
        }
      ]
    },
    {
      "cell_type": "code",
      "metadata": {
        "id": "VdE0jvIlTYQ6",
        "colab_type": "code",
        "colab": {}
      },
      "source": [
        "dataset.replace(to_replace=np.inf, value=np.nan, inplace=True)\n",
        "dataset.dropna(axis=0, inplace=True)"
      ],
      "execution_count": 0,
      "outputs": []
    },
    {
      "cell_type": "code",
      "metadata": {
        "id": "nOtdyHBRM3jW",
        "colab_type": "code",
        "colab": {}
      },
      "source": [
        "#diff_len, common_words,  fuzz_qratio ,fuzz_WRatio,fuzz_partial_ratio,fuzz_partial_token_set_ratio,  fuzz_partial_token_sort_ratio,  fuzz_token_set_ratio, fuzz_token_sort_ratio,cosine_distance, cityblock_distance, canberra_distance,euclidean_distance,minkowski_distance  and  braycurtis_distance. \n",
        "X = dataset.iloc[:, [5,10,11,12,13,14,15,16,17,18,20,21,23,24,25,26]].values\n",
        "y = dataset.iloc[:, 2].values"
      ],
      "execution_count": 0,
      "outputs": []
    },
    {
      "cell_type": "code",
      "metadata": {
        "id": "vnBzfkVcT8SK",
        "colab_type": "code",
        "outputId": "3da91fcb-b7f4-4572-f3ab-1a47800625f9",
        "colab": {
          "base_uri": "https://localhost:8080/",
          "height": 36
        }
      },
      "source": [
        "np.any(np.isinf(X))"
      ],
      "execution_count": 31,
      "outputs": [
        {
          "output_type": "execute_result",
          "data": {
            "text/plain": [
              "False"
            ]
          },
          "metadata": {
            "tags": []
          },
          "execution_count": 31
        }
      ]
    },
    {
      "cell_type": "code",
      "metadata": {
        "id": "Kxp7P-1aUede",
        "colab_type": "code",
        "outputId": "7d57ff29-f34c-4770-8afd-3bdc13297598",
        "colab": {
          "base_uri": "https://localhost:8080/",
          "height": 36
        }
      },
      "source": [
        "np.any(np.isnan(X))"
      ],
      "execution_count": 32,
      "outputs": [
        {
          "output_type": "execute_result",
          "data": {
            "text/plain": [
              "False"
            ]
          },
          "metadata": {
            "tags": []
          },
          "execution_count": 32
        }
      ]
    },
    {
      "cell_type": "code",
      "metadata": {
        "id": "ItmAJm5kPGTd",
        "colab_type": "code",
        "colab": {}
      },
      "source": [
        "from sklearn.model_selection import train_test_split\n",
        "X_train, X_test, Y_train, Y_test = train_test_split(X, y, test_size=0.2, random_state=0)"
      ],
      "execution_count": 0,
      "outputs": []
    },
    {
      "cell_type": "code",
      "metadata": {
        "id": "cV9uV0GNsICJ",
        "colab_type": "code",
        "outputId": "a68ec2db-5be6-4f22-c962-224cef5e2996",
        "colab": {
          "base_uri": "https://localhost:8080/",
          "height": 55
        }
      },
      "source": [
        "print(np.sum(Y_train))\n",
        "print(np.sum(Y_test))"
      ],
      "execution_count": 34,
      "outputs": [
        {
          "output_type": "stream",
          "text": [
            "117361\n",
            "29409\n"
          ],
          "name": "stdout"
        }
      ]
    },
    {
      "cell_type": "code",
      "metadata": {
        "id": "H6YD6sfCTREw",
        "colab_type": "code",
        "colab": {}
      },
      "source": [
        "from sklearn.preprocessing import StandardScaler\n",
        "sc_X = StandardScaler()\n",
        "X_train = sc_X.fit_transform(X_train)\n",
        "X_test = sc_X.transform(X_test)"
      ],
      "execution_count": 0,
      "outputs": []
    },
    {
      "cell_type": "code",
      "metadata": {
        "id": "lIseFWKKO1lk",
        "colab_type": "code",
        "colab": {}
      },
      "source": [
        "import pickle\n",
        "pickle.dump(sc_X, open('XScaler', 'wb'))"
      ],
      "execution_count": 0,
      "outputs": []
    },
    {
      "cell_type": "code",
      "metadata": {
        "id": "4odpGo4mPXf_",
        "colab_type": "code",
        "colab": {}
      },
      "source": [
        "classifier=Sequential()\n",
        "classifier.add(Dense(input_dim=16, kernel_initializer=\"uniform\", units=8, activation=\"relu\"))\n",
        "classifier.add(Dense(kernel_initializer=\"uniform\", units=8, activation=\"relu\"))\n",
        "classifier.add(Dense(kernel_initializer=\"uniform\", units=8, activation=\"relu\"))\n",
        "classifier.add(Dense(kernel_initializer=\"uniform\", units=8, activation=\"relu\"))\n",
        "classifier.add(Dense(kernel_initializer=\"uniform\", units=8, activation=\"relu\"))\n",
        "classifier.add(Dense(kernel_initializer=\"uniform\", units=8, activation=\"relu\"))\n",
        "classifier.add(Dense(kernel_initializer=\"uniform\", units=1, activation=\"sigmoid\"))"
      ],
      "execution_count": 0,
      "outputs": []
    },
    {
      "cell_type": "code",
      "metadata": {
        "id": "XAFaDom0P-8I",
        "colab_type": "code",
        "colab": {}
      },
      "source": [
        "classifier.compile(optimizer='adam',loss='binary_crossentropy',metrics=['accuracy'])"
      ],
      "execution_count": 0,
      "outputs": []
    },
    {
      "cell_type": "code",
      "metadata": {
        "id": "yeZ4NP7mQDWa",
        "colab_type": "code",
        "outputId": "420d3c08-cca5-4383-b047-7d0d69f4214f",
        "colab": {
          "base_uri": "https://localhost:8080/",
          "height": 1176
        }
      },
      "source": [
        "classifier.fit(X_train,Y_train,batch_size=10,epochs=30)"
      ],
      "execution_count": 39,
      "outputs": [
        {
          "output_type": "stream",
          "text": [
            "Epoch 1/30\n",
            "314651/314651 [==============================] - 40s 127us/step - loss: 0.5243 - acc: 0.6863\n",
            "Epoch 2/30\n",
            "314651/314651 [==============================] - 40s 128us/step - loss: 0.5204 - acc: 0.6894\n",
            "Epoch 3/30\n",
            "314651/314651 [==============================] - 42s 133us/step - loss: 0.5185 - acc: 0.6916\n",
            "Epoch 4/30\n",
            "314651/314651 [==============================] - 40s 128us/step - loss: 0.5151 - acc: 0.6940\n",
            "Epoch 5/30\n",
            "314651/314651 [==============================] - 41s 129us/step - loss: 0.5131 - acc: 0.6953\n",
            "Epoch 6/30\n",
            "314651/314651 [==============================] - 40s 127us/step - loss: 0.5121 - acc: 0.6956\n",
            "Epoch 7/30\n",
            "314651/314651 [==============================] - 40s 129us/step - loss: 0.5116 - acc: 0.6963\n",
            "Epoch 8/30\n",
            "314651/314651 [==============================] - 41s 129us/step - loss: 0.5110 - acc: 0.6978\n",
            "Epoch 9/30\n",
            "314651/314651 [==============================] - 40s 129us/step - loss: 0.5105 - acc: 0.6988\n",
            "Epoch 10/30\n",
            "314651/314651 [==============================] - 40s 128us/step - loss: 0.5101 - acc: 0.6995\n",
            "Epoch 11/30\n",
            "314651/314651 [==============================] - 41s 131us/step - loss: 0.5058 - acc: 0.7100\n",
            "Epoch 12/30\n",
            "314651/314651 [==============================] - 40s 128us/step - loss: 0.5002 - acc: 0.7186\n",
            "Epoch 13/30\n",
            "314651/314651 [==============================] - 40s 127us/step - loss: 0.4994 - acc: 0.7201\n",
            "Epoch 14/30\n",
            "314651/314651 [==============================] - 40s 127us/step - loss: 0.4990 - acc: 0.7207\n",
            "Epoch 15/30\n",
            "314651/314651 [==============================] - 40s 126us/step - loss: 0.4985 - acc: 0.7209\n",
            "Epoch 16/30\n",
            "314651/314651 [==============================] - 40s 126us/step - loss: 0.4974 - acc: 0.7226\n",
            "Epoch 17/30\n",
            "314651/314651 [==============================] - 40s 127us/step - loss: 0.4964 - acc: 0.7241\n",
            "Epoch 18/30\n",
            "314651/314651 [==============================] - 40s 128us/step - loss: 0.4962 - acc: 0.7243\n",
            "Epoch 19/30\n",
            "314651/314651 [==============================] - 41s 131us/step - loss: 0.4959 - acc: 0.7248\n",
            "Epoch 20/30\n",
            "314651/314651 [==============================] - 40s 128us/step - loss: 0.4957 - acc: 0.7248\n",
            "Epoch 21/30\n",
            "314651/314651 [==============================] - 40s 127us/step - loss: 0.4956 - acc: 0.7251\n",
            "Epoch 22/30\n",
            "314651/314651 [==============================] - 40s 127us/step - loss: 0.4954 - acc: 0.7247\n",
            "Epoch 23/30\n",
            "314651/314651 [==============================] - 40s 128us/step - loss: 0.4952 - acc: 0.7248\n",
            "Epoch 24/30\n",
            "314651/314651 [==============================] - 48s 154us/step - loss: 0.4952 - acc: 0.7247\n",
            "Epoch 25/30\n",
            "314651/314651 [==============================] - 41s 131us/step - loss: 0.4951 - acc: 0.7251\n",
            "Epoch 26/30\n",
            "314651/314651 [==============================] - 42s 133us/step - loss: 0.4950 - acc: 0.7247\n",
            "Epoch 27/30\n",
            "314651/314651 [==============================] - 43s 137us/step - loss: 0.4948 - acc: 0.7250\n",
            "Epoch 28/30\n",
            "314651/314651 [==============================] - 41s 130us/step - loss: 0.4947 - acc: 0.7251\n",
            "Epoch 29/30\n",
            "314651/314651 [==============================] - 41s 130us/step - loss: 0.4947 - acc: 0.7252\n",
            "Epoch 30/30\n",
            "314651/314651 [==============================] - 41s 131us/step - loss: 0.4945 - acc: 0.7256\n"
          ],
          "name": "stdout"
        },
        {
          "output_type": "execute_result",
          "data": {
            "text/plain": [
              "<keras.callbacks.History at 0x7f5d12acef28>"
            ]
          },
          "metadata": {
            "tags": []
          },
          "execution_count": 39
        }
      ]
    },
    {
      "cell_type": "code",
      "metadata": {
        "id": "ZpG9ILblRSjk",
        "colab_type": "code",
        "colab": {}
      },
      "source": [
        "y_pred = classifier.predict(X_test)\n",
        "y_pred=(y_pred>0.5)"
      ],
      "execution_count": 0,
      "outputs": []
    },
    {
      "cell_type": "code",
      "metadata": {
        "id": "1RGDIlfhSvQ-",
        "colab_type": "code",
        "outputId": "8872b21b-09b1-4df3-944b-27ad89b98d9d",
        "colab": {
          "base_uri": "https://localhost:8080/",
          "height": 55
        }
      },
      "source": [
        "from sklearn.metrics import confusion_matrix\n",
        "cm = confusion_matrix(Y_test, y_pred)\n",
        "print(cm)"
      ],
      "execution_count": 41,
      "outputs": [
        {
          "output_type": "stream",
          "text": [
            "[[36462 12792]\n",
            " [ 8954 20455]]\n"
          ],
          "name": "stdout"
        }
      ]
    },
    {
      "cell_type": "code",
      "metadata": {
        "id": "JWS8WHH73JVJ",
        "colab_type": "code",
        "colab": {}
      },
      "source": [
        "import pickle\n",
        "pickle.dump(classifier, open('ANN_7256.model', 'wb'))"
      ],
      "execution_count": 0,
      "outputs": []
    }
  ]
}