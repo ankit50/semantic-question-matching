{
  "nbformat": 4,
  "nbformat_minor": 0,
  "metadata": {
    "colab": {
      "name": "6_KNN.ipynb",
      "version": "0.3.2",
      "provenance": [],
      "collapsed_sections": []
    },
    "kernelspec": {
      "name": "python3",
      "display_name": "Python 3"
    }
  },
  "cells": [
    {
      "cell_type": "code",
      "metadata": {
        "id": "LTk2Nv5pF6Cl",
        "colab_type": "code",
        "colab": {}
      },
      "source": [
        "import pandas as pd\n",
        "import numpy as np"
      ],
      "execution_count": 0,
      "outputs": []
    },
    {
      "cell_type": "code",
      "metadata": {
        "id": "0E0iYtmnGDdu",
        "colab_type": "code",
        "colab": {
          "base_uri": "https://localhost:8080/",
          "height": 267
        },
        "outputId": "dd6ef5bc-19b5-40c2-a31d-b3e7489e6a05"
      },
      "source": [
        "dataset = pd.read_csv('/content/drive/My Drive/semantic-question-matching/Features/final_features.csv', delimiter='\\t')\n",
        "dataset.head(2)"
      ],
      "execution_count": 2,
      "outputs": [
        {
          "output_type": "execute_result",
          "data": {
            "text/html": [
              "<div>\n",
              "<style scoped>\n",
              "    .dataframe tbody tr th:only-of-type {\n",
              "        vertical-align: middle;\n",
              "    }\n",
              "\n",
              "    .dataframe tbody tr th {\n",
              "        vertical-align: top;\n",
              "    }\n",
              "\n",
              "    .dataframe thead th {\n",
              "        text-align: right;\n",
              "    }\n",
              "</style>\n",
              "<table border=\"1\" class=\"dataframe\">\n",
              "  <thead>\n",
              "    <tr style=\"text-align: right;\">\n",
              "      <th></th>\n",
              "      <th>question1</th>\n",
              "      <th>question2</th>\n",
              "      <th>is_duplicate</th>\n",
              "      <th>len_q1</th>\n",
              "      <th>len_q2</th>\n",
              "      <th>diff_len</th>\n",
              "      <th>len_char_q1</th>\n",
              "      <th>len_char_q2</th>\n",
              "      <th>len_word_q1</th>\n",
              "      <th>len_word_q2</th>\n",
              "      <th>common_words</th>\n",
              "      <th>fuzz_qratio</th>\n",
              "      <th>fuzz_WRatio</th>\n",
              "      <th>fuzz_partial_ratio</th>\n",
              "      <th>fuzz_partial_token_set_ratio</th>\n",
              "      <th>fuzz_partial_token_sort_ratio</th>\n",
              "      <th>fuzz_token_set_ratio</th>\n",
              "      <th>fuzz_token_sort_ratio</th>\n",
              "      <th>wmd</th>\n",
              "      <th>norm_wmd</th>\n",
              "      <th>cosine_distance</th>\n",
              "      <th>cityblock_distance</th>\n",
              "      <th>jaccard_distance</th>\n",
              "      <th>canberra_distance</th>\n",
              "      <th>euclidean_distance</th>\n",
              "      <th>minkowski_distance</th>\n",
              "      <th>braycurtis_distance</th>\n",
              "      <th>skew_q1vec</th>\n",
              "      <th>skew_q2vec</th>\n",
              "      <th>kur_q1vec</th>\n",
              "      <th>kur_q2vec</th>\n",
              "    </tr>\n",
              "  </thead>\n",
              "  <tbody>\n",
              "    <tr>\n",
              "      <th>0</th>\n",
              "      <td>What is the step by step guide to invest in sh...</td>\n",
              "      <td>What is the step by step guide to invest in sh...</td>\n",
              "      <td>0</td>\n",
              "      <td>66</td>\n",
              "      <td>57</td>\n",
              "      <td>9</td>\n",
              "      <td>20</td>\n",
              "      <td>20</td>\n",
              "      <td>14</td>\n",
              "      <td>12</td>\n",
              "      <td>10</td>\n",
              "      <td>93</td>\n",
              "      <td>95</td>\n",
              "      <td>98</td>\n",
              "      <td>100</td>\n",
              "      <td>89</td>\n",
              "      <td>100</td>\n",
              "      <td>93</td>\n",
              "      <td>0.564615</td>\n",
              "      <td>0.217555</td>\n",
              "      <td>0.037908</td>\n",
              "      <td>3.774843</td>\n",
              "      <td>1.0</td>\n",
              "      <td>75.949318</td>\n",
              "      <td>0.275348</td>\n",
              "      <td>0.125323</td>\n",
              "      <td>0.137314</td>\n",
              "      <td>0.008893</td>\n",
              "      <td>-0.099771</td>\n",
              "      <td>0.108845</td>\n",
              "      <td>0.344742</td>\n",
              "    </tr>\n",
              "    <tr>\n",
              "      <th>1</th>\n",
              "      <td>What is the story of Kohinoor (Koh-i-Noor) Dia...</td>\n",
              "      <td>What would happen if the Indian government sto...</td>\n",
              "      <td>0</td>\n",
              "      <td>51</td>\n",
              "      <td>88</td>\n",
              "      <td>-37</td>\n",
              "      <td>21</td>\n",
              "      <td>29</td>\n",
              "      <td>8</td>\n",
              "      <td>13</td>\n",
              "      <td>4</td>\n",
              "      <td>66</td>\n",
              "      <td>86</td>\n",
              "      <td>73</td>\n",
              "      <td>100</td>\n",
              "      <td>75</td>\n",
              "      <td>86</td>\n",
              "      <td>63</td>\n",
              "      <td>3.772346</td>\n",
              "      <td>1.368796</td>\n",
              "      <td>0.574596</td>\n",
              "      <td>15.130415</td>\n",
              "      <td>1.0</td>\n",
              "      <td>190.766894</td>\n",
              "      <td>1.072004</td>\n",
              "      <td>0.482108</td>\n",
              "      <td>0.648993</td>\n",
              "      <td>0.027151</td>\n",
              "      <td>0.060190</td>\n",
              "      <td>0.310524</td>\n",
              "      <td>0.033802</td>\n",
              "    </tr>\n",
              "  </tbody>\n",
              "</table>\n",
              "</div>"
            ],
            "text/plain": [
              "                                           question1  ... kur_q2vec\n",
              "0  What is the step by step guide to invest in sh...  ...  0.344742\n",
              "1  What is the story of Kohinoor (Koh-i-Noor) Dia...  ...  0.033802\n",
              "\n",
              "[2 rows x 31 columns]"
            ]
          },
          "metadata": {
            "tags": []
          },
          "execution_count": 2
        }
      ]
    },
    {
      "cell_type": "code",
      "metadata": {
        "id": "V8rsjGWBGFbf",
        "colab_type": "code",
        "colab": {
          "base_uri": "https://localhost:8080/",
          "height": 207
        },
        "outputId": "a57793e3-e2d6-47bf-c1d7-5779aad14685"
      },
      "source": [
        "dataset.columns"
      ],
      "execution_count": 3,
      "outputs": [
        {
          "output_type": "execute_result",
          "data": {
            "text/plain": [
              "Index(['question1', 'question2', 'is_duplicate', 'len_q1', 'len_q2',\n",
              "       'diff_len', 'len_char_q1', 'len_char_q2', 'len_word_q1', 'len_word_q2',\n",
              "       'common_words', 'fuzz_qratio', 'fuzz_WRatio', 'fuzz_partial_ratio',\n",
              "       'fuzz_partial_token_set_ratio', 'fuzz_partial_token_sort_ratio',\n",
              "       'fuzz_token_set_ratio', 'fuzz_token_sort_ratio', 'wmd', 'norm_wmd',\n",
              "       'cosine_distance', 'cityblock_distance', 'jaccard_distance',\n",
              "       'canberra_distance', 'euclidean_distance', 'minkowski_distance',\n",
              "       'braycurtis_distance', 'skew_q1vec', 'skew_q2vec', 'kur_q1vec',\n",
              "       'kur_q2vec'],\n",
              "      dtype='object')"
            ]
          },
          "metadata": {
            "tags": []
          },
          "execution_count": 3
        }
      ]
    },
    {
      "cell_type": "code",
      "metadata": {
        "id": "gg-OwvbwGHHY",
        "colab_type": "code",
        "colab": {}
      },
      "source": [
        "dataset.replace(to_replace=np.inf, value=np.nan, inplace=True)\n",
        "dataset.dropna(axis=0, inplace=True)"
      ],
      "execution_count": 0,
      "outputs": []
    },
    {
      "cell_type": "code",
      "metadata": {
        "id": "k_jYsvrgGI7t",
        "colab_type": "code",
        "colab": {}
      },
      "source": [
        "#diff_len, common_words,  fuzz_qratio ,fuzz_WRatio,fuzz_partial_ratio,fuzz_partial_token_set_ratio,  fuzz_partial_token_sort_ratio,  fuzz_token_set_ratio, fuzz_token_sort_ratio,cosine_distance, cityblock_distance, canberra_distance,euclidean_distance,minkowski_distance  and  braycurtis_distance. \n",
        "X = dataset.iloc[:, [5,10,11,12,13,14,15,16,17,18,20,21,23,24,25,26]].values\n",
        "y = dataset.iloc[:, 2].values"
      ],
      "execution_count": 0,
      "outputs": []
    },
    {
      "cell_type": "code",
      "metadata": {
        "id": "H4SsiANnGKuu",
        "colab_type": "code",
        "colab": {}
      },
      "source": [
        "from sklearn.model_selection import train_test_split\n",
        "X_train, X_test, Y_train, Y_test = train_test_split(X, y, test_size=0.2, random_state=0)"
      ],
      "execution_count": 0,
      "outputs": []
    },
    {
      "cell_type": "code",
      "metadata": {
        "id": "POJZ-WJeGM0k",
        "colab_type": "code",
        "colab": {
          "base_uri": "https://localhost:8080/",
          "height": 55
        },
        "outputId": "d0eb562a-b077-4a7d-a376-31955e26ccd7"
      },
      "source": [
        "print(np.sum(Y_train))\n",
        "print(np.sum(Y_test))"
      ],
      "execution_count": 7,
      "outputs": [
        {
          "output_type": "stream",
          "text": [
            "117361\n",
            "29409\n"
          ],
          "name": "stdout"
        }
      ]
    },
    {
      "cell_type": "code",
      "metadata": {
        "id": "6aVfR7NSGOd5",
        "colab_type": "code",
        "colab": {}
      },
      "source": [
        "from sklearn.preprocessing import StandardScaler\n",
        "sc_X = StandardScaler()\n",
        "X_train = sc_X.fit_transform(X_train)\n",
        "X_test = sc_X.transform(X_test)"
      ],
      "execution_count": 0,
      "outputs": []
    },
    {
      "cell_type": "code",
      "metadata": {
        "id": "EmCvDm64GQA2",
        "colab_type": "code",
        "colab": {}
      },
      "source": [
        "from sklearn.neighbors import KNeighborsClassifier\n",
        "classifier = KNeighborsClassifier(metric='euclidean')"
      ],
      "execution_count": 0,
      "outputs": []
    },
    {
      "cell_type": "code",
      "metadata": {
        "id": "aBUkYQAnGc_h",
        "colab_type": "code",
        "colab": {
          "base_uri": "https://localhost:8080/",
          "height": 74
        },
        "outputId": "a0946cd9-a540-4f90-d957-b91bd63f0c1b"
      },
      "source": [
        "classifier.fit(X_train, Y_train)"
      ],
      "execution_count": 11,
      "outputs": [
        {
          "output_type": "execute_result",
          "data": {
            "text/plain": [
              "KNeighborsClassifier(algorithm='auto', leaf_size=30, metric='euclidean',\n",
              "           metric_params=None, n_jobs=None, n_neighbors=5, p=2,\n",
              "           weights='uniform')"
            ]
          },
          "metadata": {
            "tags": []
          },
          "execution_count": 11
        }
      ]
    },
    {
      "cell_type": "code",
      "metadata": {
        "id": "zDFbNcCRGi8p",
        "colab_type": "code",
        "colab": {}
      },
      "source": [
        "y_pred = classifier.predict(X_test)"
      ],
      "execution_count": 0,
      "outputs": []
    },
    {
      "cell_type": "code",
      "metadata": {
        "id": "WvhuITSIGlRM",
        "colab_type": "code",
        "colab": {
          "base_uri": "https://localhost:8080/",
          "height": 36
        },
        "outputId": "4de8abc7-477c-4dd3-8d25-14a6085ca2aa"
      },
      "source": [
        "classifier.score(X_test, Y_test)"
      ],
      "execution_count": 13,
      "outputs": [
        {
          "output_type": "execute_result",
          "data": {
            "text/plain": [
              "0.7104610808130888"
            ]
          },
          "metadata": {
            "tags": []
          },
          "execution_count": 13
        }
      ]
    },
    {
      "cell_type": "code",
      "metadata": {
        "id": "DcJs-yuyGnew",
        "colab_type": "code",
        "colab": {
          "base_uri": "https://localhost:8080/",
          "height": 55
        },
        "outputId": "86ee5961-3f93-4224-c1c2-4b6a0e2df022"
      },
      "source": [
        "from sklearn.metrics import confusion_matrix\n",
        "cm = confusion_matrix(Y_test, y_pred)\n",
        "print(cm)"
      ],
      "execution_count": 14,
      "outputs": [
        {
          "output_type": "stream",
          "text": [
            "[[37701 11553]\n",
            " [11223 18186]]\n"
          ],
          "name": "stdout"
        }
      ]
    },
    {
      "cell_type": "code",
      "metadata": {
        "id": "pskEG98UGqB2",
        "colab_type": "code",
        "colab": {}
      },
      "source": [
        "from sklearn.model_selection import cross_val_score\n",
        "accuracies = cross_val_score(estimator=classifier, X=X_train, y=Y_train, cv=10)"
      ],
      "execution_count": 0,
      "outputs": []
    },
    {
      "cell_type": "code",
      "metadata": {
        "id": "tjDIXFJQI17J",
        "colab_type": "code",
        "colab": {
          "base_uri": "https://localhost:8080/",
          "height": 55
        },
        "outputId": "be0f6979-1bfb-4203-c35a-b416f2b49746"
      },
      "source": [
        "print(accuracies)"
      ],
      "execution_count": 17,
      "outputs": [
        {
          "output_type": "stream",
          "text": [
            "[0.71559779 0.7115843  0.70796123 0.70802479 0.70980454 0.71323693\n",
            " 0.71202924 0.70897823 0.71253774 0.71190211]\n"
          ],
          "name": "stdout"
        }
      ]
    },
    {
      "cell_type": "code",
      "metadata": {
        "id": "C3c84eeQI4A0",
        "colab_type": "code",
        "colab": {}
      },
      "source": [
        "import pickle\n",
        "pickle.dump(classifier, open('KNN.model','wb'))"
      ],
      "execution_count": 0,
      "outputs": []
    }
  ]
}